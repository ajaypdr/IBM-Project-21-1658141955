{
  "cells": [
    {
      "cell_type": "markdown",
      "source": [
        "##Problem Statement :- SMS SPAM Classification"
      ],
      "metadata": {
        "id": "4yJp3mjUB9cE"
      },
      "id": "4yJp3mjUB9cE"
    },
    {
      "cell_type": "code",
      "execution_count": null,
      "id": "80f3490b",
      "metadata": {
        "id": "80f3490b"
      },
      "outputs": [],
      "source": [
        "import pandas as pd\n",
        "import numpy as np\n",
        "import tensorflow\n",
        "from sklearn.model_selection import train_test_split\n",
        "from sklearn.preprocessing import LabelEncoder\n",
        "from tensorflow.keras.models import Sequential\n",
        "from tensorflow.keras.layers import LSTM, Dense, Dropout, Embedding\n",
        "from tensorflow.keras.optimizers import RMSprop\n",
        "from tensorflow.keras.preprocessing.text import Tokenizer\n",
        "from tensorflow.keras.preprocessing import sequence"
      ]
    },
    {
      "cell_type": "code",
      "execution_count": null,
      "id": "280bfd28",
      "metadata": {
        "id": "280bfd28",
        "outputId": "b6358b1e-722d-46fa-e7c8-55ab53412176"
      },
      "outputs": [
        {
          "data": {
            "text/html": [
              "<div>\n",
              "<style scoped>\n",
              "    .dataframe tbody tr th:only-of-type {\n",
              "        vertical-align: middle;\n",
              "    }\n",
              "\n",
              "    .dataframe tbody tr th {\n",
              "        vertical-align: top;\n",
              "    }\n",
              "\n",
              "    .dataframe thead th {\n",
              "        text-align: right;\n",
              "    }\n",
              "</style>\n",
              "<table border=\"1\" class=\"dataframe\">\n",
              "  <thead>\n",
              "    <tr style=\"text-align: right;\">\n",
              "      <th></th>\n",
              "      <th>v1</th>\n",
              "      <th>v2</th>\n",
              "      <th>Unnamed: 2</th>\n",
              "      <th>Unnamed: 3</th>\n",
              "      <th>Unnamed: 4</th>\n",
              "    </tr>\n",
              "  </thead>\n",
              "  <tbody>\n",
              "    <tr>\n",
              "      <th>0</th>\n",
              "      <td>ham</td>\n",
              "      <td>Go until jurong point, crazy.. Available only ...</td>\n",
              "      <td>NaN</td>\n",
              "      <td>NaN</td>\n",
              "      <td>NaN</td>\n",
              "    </tr>\n",
              "    <tr>\n",
              "      <th>1</th>\n",
              "      <td>ham</td>\n",
              "      <td>Ok lar... Joking wif u oni...</td>\n",
              "      <td>NaN</td>\n",
              "      <td>NaN</td>\n",
              "      <td>NaN</td>\n",
              "    </tr>\n",
              "    <tr>\n",
              "      <th>2</th>\n",
              "      <td>spam</td>\n",
              "      <td>Free entry in 2 a wkly comp to win FA Cup fina...</td>\n",
              "      <td>NaN</td>\n",
              "      <td>NaN</td>\n",
              "      <td>NaN</td>\n",
              "    </tr>\n",
              "    <tr>\n",
              "      <th>3</th>\n",
              "      <td>ham</td>\n",
              "      <td>U dun say so early hor... U c already then say...</td>\n",
              "      <td>NaN</td>\n",
              "      <td>NaN</td>\n",
              "      <td>NaN</td>\n",
              "    </tr>\n",
              "    <tr>\n",
              "      <th>4</th>\n",
              "      <td>ham</td>\n",
              "      <td>Nah I don't think he goes to usf, he lives aro...</td>\n",
              "      <td>NaN</td>\n",
              "      <td>NaN</td>\n",
              "      <td>NaN</td>\n",
              "    </tr>\n",
              "  </tbody>\n",
              "</table>\n",
              "</div>"
            ],
            "text/plain": [
              "     v1                                                 v2 Unnamed: 2  \\\n",
              "0   ham  Go until jurong point, crazy.. Available only ...        NaN   \n",
              "1   ham                      Ok lar... Joking wif u oni...        NaN   \n",
              "2  spam  Free entry in 2 a wkly comp to win FA Cup fina...        NaN   \n",
              "3   ham  U dun say so early hor... U c already then say...        NaN   \n",
              "4   ham  Nah I don't think he goes to usf, he lives aro...        NaN   \n",
              "\n",
              "  Unnamed: 3 Unnamed: 4  \n",
              "0        NaN        NaN  \n",
              "1        NaN        NaN  \n",
              "2        NaN        NaN  \n",
              "3        NaN        NaN  \n",
              "4        NaN        NaN  "
            ]
          },
          "execution_count": 3,
          "metadata": {},
          "output_type": "execute_result"
        }
      ],
      "source": [
        "df = pd.read_csv('C:/Users/atrss/Downloads/archive/spam.csv', delimiter=',', encoding='latin-1')\n",
        "df.head()\n"
      ]
    },
    {
      "cell_type": "code",
      "execution_count": null,
      "id": "fd54ff29",
      "metadata": {
        "id": "fd54ff29",
        "outputId": "18c9246f-5eea-46d0-bfbb-2af507e508a2"
      },
      "outputs": [
        {
          "name": "stdout",
          "output_type": "stream",
          "text": [
            "<class 'pandas.core.frame.DataFrame'>\n",
            "RangeIndex: 5572 entries, 0 to 5571\n",
            "Data columns (total 2 columns):\n",
            " #   Column  Non-Null Count  Dtype \n",
            "---  ------  --------------  ----- \n",
            " 0   v1      5572 non-null   object\n",
            " 1   v2      5572 non-null   object\n",
            "dtypes: object(2)\n",
            "memory usage: 87.2+ KB\n"
          ]
        }
      ],
      "source": [
        "df.drop(['Unnamed: 2', 'Unnamed: 3', 'Unnamed: 4'], axis=1, inplace=True)\n",
        "df.info()"
      ]
    },
    {
      "cell_type": "code",
      "execution_count": null,
      "id": "afb1babf",
      "metadata": {
        "id": "afb1babf"
      },
      "outputs": [],
      "source": [
        "X = df.v2\n",
        "Y = df.v1\n",
        "encoder = LabelEncoder()\n",
        "Y = encoder.fit_transform(Y)\n",
        "Y = Y.reshape(-1,1)"
      ]
    },
    {
      "cell_type": "code",
      "execution_count": null,
      "id": "c2d6dd0a",
      "metadata": {
        "id": "c2d6dd0a"
      },
      "outputs": [],
      "source": [
        "X_train, X_test, y_train, y_test = train_test_split(X, Y, test_size=0.2)\n",
        "tokenizer = Tokenizer(num_words=2000, lower=True)\n",
        "tokenizer.fit_on_texts(X_train)\n",
        "sequences = tokenizer.texts_to_sequences(X_train)\n",
        "X_train = sequence.pad_sequences(sequences, maxlen=200)"
      ]
    },
    {
      "cell_type": "code",
      "execution_count": null,
      "id": "74c801bc",
      "metadata": {
        "id": "74c801bc"
      },
      "outputs": [],
      "source": [
        "model  = Sequential()"
      ]
    },
    {
      "cell_type": "code",
      "execution_count": null,
      "id": "b0cf5832",
      "metadata": {
        "id": "b0cf5832"
      },
      "outputs": [],
      "source": [
        "model.add(Embedding(2000, 50, input_length=200))\n",
        "model.add(LSTM(64))\n",
        "model.add(Dense(256, activation=\"relu\"))\n",
        "model.add(Dropout(0.5))\n",
        "model.add(Dense(1,activation=\"sigmoid\"))"
      ]
    },
    {
      "cell_type": "code",
      "execution_count": null,
      "id": "97a8f683",
      "metadata": {
        "id": "97a8f683",
        "outputId": "e8545223-504e-4884-eff3-f973d7d3f186"
      },
      "outputs": [
        {
          "name": "stdout",
          "output_type": "stream",
          "text": [
            "Model: \"sequential\"\n",
            "_________________________________________________________________\n",
            " Layer (type)                Output Shape              Param #   \n",
            "=================================================================\n",
            " embedding (Embedding)       (None, 200, 50)           100000    \n",
            "                                                                 \n",
            " lstm (LSTM)                 (None, 64)                29440     \n",
            "                                                                 \n",
            " dense (Dense)               (None, 256)               16640     \n",
            "                                                                 \n",
            " dropout (Dropout)           (None, 256)               0         \n",
            "                                                                 \n",
            " dense_1 (Dense)             (None, 1)                 257       \n",
            "                                                                 \n",
            "=================================================================\n",
            "Total params: 146,337\n",
            "Trainable params: 146,337\n",
            "Non-trainable params: 0\n",
            "_________________________________________________________________\n"
          ]
        }
      ],
      "source": [
        "model.summary()"
      ]
    },
    {
      "cell_type": "code",
      "execution_count": null,
      "id": "976e30ce",
      "metadata": {
        "id": "976e30ce"
      },
      "outputs": [],
      "source": [
        "model.compile(loss='binary_crossentropy',optimizer=RMSprop(),metrics=['accuracy'])"
      ]
    },
    {
      "cell_type": "code",
      "execution_count": null,
      "id": "0845f2b8",
      "metadata": {
        "id": "0845f2b8",
        "outputId": "3d85f28b-adb5-419d-9839-31900d1b59d7"
      },
      "outputs": [
        {
          "name": "stdout",
          "output_type": "stream",
          "text": [
            "Epoch 1/10\n",
            "28/28 [==============================] - 10s 218ms/step - loss: 0.3043 - accuracy: 0.8839 - val_loss: 0.1518 - val_accuracy: 0.9709\n",
            "Epoch 2/10\n",
            "28/28 [==============================] - 6s 221ms/step - loss: 0.0773 - accuracy: 0.9826 - val_loss: 0.0941 - val_accuracy: 0.9731\n",
            "Epoch 3/10\n",
            "28/28 [==============================] - 7s 245ms/step - loss: 0.0403 - accuracy: 0.9893 - val_loss: 0.0562 - val_accuracy: 0.9809\n",
            "Epoch 4/10\n",
            "28/28 [==============================] - 7s 242ms/step - loss: 0.0293 - accuracy: 0.9913 - val_loss: 0.0598 - val_accuracy: 0.9809\n",
            "Epoch 5/10\n",
            "28/28 [==============================] - 7s 258ms/step - loss: 0.0222 - accuracy: 0.9930 - val_loss: 0.0547 - val_accuracy: 0.9787\n",
            "Epoch 6/10\n",
            "28/28 [==============================] - 7s 257ms/step - loss: 0.0133 - accuracy: 0.9961 - val_loss: 0.0644 - val_accuracy: 0.9787\n",
            "Epoch 7/10\n",
            "28/28 [==============================] - 7s 247ms/step - loss: 0.0087 - accuracy: 0.9975 - val_loss: 0.0666 - val_accuracy: 0.9821\n",
            "Epoch 8/10\n",
            "28/28 [==============================] - 7s 244ms/step - loss: 0.0082 - accuracy: 0.9972 - val_loss: 0.0753 - val_accuracy: 0.9776\n",
            "Epoch 9/10\n",
            "28/28 [==============================] - 7s 231ms/step - loss: 0.0043 - accuracy: 0.9992 - val_loss: 0.1000 - val_accuracy: 0.9731\n",
            "Epoch 10/10\n",
            "28/28 [==============================] - 7s 264ms/step - loss: 0.0025 - accuracy: 0.9994 - val_loss: 0.1146 - val_accuracy: 0.9821\n"
          ]
        },
        {
          "data": {
            "text/plain": [
              "<keras.callbacks.History at 0x2333da2f8e0>"
            ]
          },
          "execution_count": 11,
          "metadata": {},
          "output_type": "execute_result"
        }
      ],
      "source": [
        "model.fit(X_train, y_train, batch_size=128, epochs=10, validation_split=0.2)"
      ]
    },
    {
      "cell_type": "code",
      "execution_count": null,
      "id": "197db1d3",
      "metadata": {
        "id": "197db1d3"
      },
      "outputs": [],
      "source": [
        "model.save(\"model.h5\")"
      ]
    },
    {
      "cell_type": "code",
      "execution_count": null,
      "id": "71876611",
      "metadata": {
        "id": "71876611",
        "outputId": "8f259c42-0608-4b3d-85d3-2780f2a8682c"
      },
      "outputs": [
        {
          "name": "stdout",
          "output_type": "stream",
          "text": [
            "35/35 [==============================] - 1s 16ms/step - loss: 0.1126 - accuracy: 0.9839\n"
          ]
        }
      ],
      "source": [
        "test_sequences = tokenizer.texts_to_sequences(X_test)\n",
        "X_test = sequence.pad_sequences(test_sequences, maxlen=200)\n",
        "acc = model.evaluate(X_test, y_test)"
      ]
    },
    {
      "cell_type": "code",
      "execution_count": null,
      "id": "5e706fcf",
      "metadata": {
        "id": "5e706fcf"
      },
      "outputs": [],
      "source": [
        "def predict(message):\n",
        "    txt = tokenizer.texts_to_sequences(message)\n",
        "    txt = sequence.pad_sequences(txt, maxlen=200)\n",
        "    preds = model.predict(txt)\n",
        "    if preds > 0.5:\n",
        "        print(\"Spam\")\n",
        "    else:\n",
        "        print(\"Not Spam\")"
      ]
    },
    {
      "cell_type": "code",
      "execution_count": null,
      "id": "25bb9a09",
      "metadata": {
        "id": "25bb9a09",
        "outputId": "d5805dc5-822c-4227-e07f-8d307fce2e1d"
      },
      "outputs": [
        {
          "name": "stdout",
          "output_type": "stream",
          "text": [
            "1/1 [==============================] - 0s 362ms/step\n",
            "Not Spam\n"
          ]
        }
      ],
      "source": [
        "predict([\"Sorry, I'll call later\"])"
      ]
    },
    {
      "cell_type": "code",
      "execution_count": null,
      "id": "0e95acab",
      "metadata": {
        "id": "0e95acab",
        "outputId": "a3d2f9a7-6864-4acb-ee60-0528549abd65"
      },
      "outputs": [
        {
          "name": "stdout",
          "output_type": "stream",
          "text": [
            "1/1 [==============================] - 0s 21ms/step\n",
            "Spam\n"
          ]
        }
      ],
      "source": [
        "predict([\"Congratulations ur awarded 500 of CD vouchers or 125gift guaranteed & Free entry 2 100 wkly draw txt MUSIC to 87066 TnCs www.Ldew.com1win150ppmx3age16\"])"
      ]
    },
    {
      "cell_type": "code",
      "execution_count": null,
      "id": "7c35c2c2",
      "metadata": {
        "id": "7c35c2c2"
      },
      "outputs": [],
      "source": []
    }
  ],
  "metadata": {
    "kernelspec": {
      "display_name": "Python 3 (ipykernel)",
      "language": "python",
      "name": "python3"
    },
    "language_info": {
      "codemirror_mode": {
        "name": "ipython",
        "version": 3
      },
      "file_extension": ".py",
      "mimetype": "text/x-python",
      "name": "python",
      "nbconvert_exporter": "python",
      "pygments_lexer": "ipython3",
      "version": "3.9.12"
    },
    "colab": {
      "provenance": []
    }
  },
  "nbformat": 4,
  "nbformat_minor": 5
}